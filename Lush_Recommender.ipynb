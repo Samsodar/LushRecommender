{
 "cells": [
  {
   "cell_type": "markdown",
   "id": "f7bcbf08",
   "metadata": {},
   "source": [
    "## LUSH Recommender (Content based)"
   ]
  },
  {
   "cell_type": "code",
   "execution_count": 2,
   "id": "e38b724f",
   "metadata": {},
   "outputs": [],
   "source": [
    "import numpy as np\n",
    "import pandas as pd\n",
    "from sklearn.feature_extraction.text import TfidfVectorizer\n",
    "from sklearn.metrics.pairwise import cosine_similarity\n",
    "\n",
    "df_lush = pd.read_excel(r\"C:\\Users\\dsasrp\\Desktop\\Brainstation\\10_Week\\Industry Project\\LushDataset.xlsx\")\n",
    "\n",
    "lush_ingridients = df_lush[['Name', 'Ingridients']]\n",
    "\n",
    "vectorizer = TfidfVectorizer(stop_words = \"english\", min_df=2)\n",
    "\n",
    "TF_IDF_matrix = vectorizer.fit_transform(lush_ingridients['Ingridients'])\n",
    "\n",
    "similarities = cosine_similarity(TF_IDF_matrix, dense_output=False)\n",
    "\n",
    "def content_recommender(name, lush_ingridients, similarities) :\n",
    "    \n",
    "    article_position = lush_ingridients[lush_ingridients['Name'] == name].index[0]\n",
    "    \n",
    "    sim_df = pd.DataFrame(\n",
    "        {'name': lush_ingridients['Name'], \n",
    "         'similarity': np.array(similarities[article_position, :].todense()).squeeze()\n",
    "        })\n",
    "\n",
    "    top_articles = sim_df.sort_values(by='similarity', ascending=False).head(4).tail(3)\n",
    "    \n",
    "    return top_articles\n",
    "\n",
    "def magic(name):\n",
    "    if name not in df_lush['Name'].values:\n",
    "        print('not found')\n",
    "        return None\n",
    "    \n",
    "    similar_articles = content_recommender(name, lush_ingridients, similarities)\n",
    "    similar_articles_description = pd.merge(similar_articles, \n",
    "                                            df_lush, \n",
    "                                            left_on='name', \n",
    "                                            right_on='Name', \n",
    "                                            how='left')\n",
    "\n",
    "    similar_articles_description = similar_articles_description[['name', 'Type', 'similarity', 'Price']]\n",
    "    return similar_articles_description.sort_values(by='similarity', ascending=False)"
   ]
  },
  {
   "cell_type": "code",
   "execution_count": 6,
   "id": "bf1b25d9",
   "metadata": {},
   "outputs": [
    {
     "data": {
      "text/html": [
       "<div>\n",
       "<style scoped>\n",
       "    .dataframe tbody tr th:only-of-type {\n",
       "        vertical-align: middle;\n",
       "    }\n",
       "\n",
       "    .dataframe tbody tr th {\n",
       "        vertical-align: top;\n",
       "    }\n",
       "\n",
       "    .dataframe thead th {\n",
       "        text-align: right;\n",
       "    }\n",
       "</style>\n",
       "<table border=\"1\" class=\"dataframe\">\n",
       "  <thead>\n",
       "    <tr style=\"text-align: right;\">\n",
       "      <th></th>\n",
       "      <th>name</th>\n",
       "      <th>Type</th>\n",
       "      <th>similarity</th>\n",
       "      <th>Price</th>\n",
       "    </tr>\n",
       "  </thead>\n",
       "  <tbody>\n",
       "    <tr>\n",
       "      <th>0</th>\n",
       "      <td>Purity &amp; Clarity</td>\n",
       "      <td>Massage Bar</td>\n",
       "      <td>0.762907</td>\n",
       "      <td>13.0</td>\n",
       "    </tr>\n",
       "    <tr>\n",
       "      <th>1</th>\n",
       "      <td>Scrubee</td>\n",
       "      <td>Body Butter</td>\n",
       "      <td>0.316097</td>\n",
       "      <td>11.5</td>\n",
       "    </tr>\n",
       "    <tr>\n",
       "      <th>2</th>\n",
       "      <td>Coco Loco</td>\n",
       "      <td>Naked Shower Oil</td>\n",
       "      <td>0.314586</td>\n",
       "      <td>10.5</td>\n",
       "    </tr>\n",
       "  </tbody>\n",
       "</table>\n",
       "</div>"
      ],
      "text/plain": [
       "               name              Type  similarity  Price\n",
       "0  Purity & Clarity       Massage Bar    0.762907   13.0\n",
       "1           Scrubee       Body Butter    0.316097   11.5\n",
       "2         Coco Loco  Naked Shower Oil    0.314586   10.5"
      ]
     },
     "execution_count": 6,
     "metadata": {},
     "output_type": "execute_result"
    }
   ],
   "source": [
    "magic('Minamisoma')"
   ]
  },
  {
   "cell_type": "code",
   "execution_count": null,
   "id": "98c30b48",
   "metadata": {},
   "outputs": [],
   "source": []
  }
 ],
 "metadata": {
  "kernelspec": {
   "display_name": "Python 3 (ipykernel)",
   "language": "python",
   "name": "python3"
  },
  "language_info": {
   "codemirror_mode": {
    "name": "ipython",
    "version": 3
   },
   "file_extension": ".py",
   "mimetype": "text/x-python",
   "name": "python",
   "nbconvert_exporter": "python",
   "pygments_lexer": "ipython3",
   "version": "3.11.3"
  }
 },
 "nbformat": 4,
 "nbformat_minor": 5
}
